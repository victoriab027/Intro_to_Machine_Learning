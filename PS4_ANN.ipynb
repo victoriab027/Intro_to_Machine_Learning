{
 "cells": [
  {
   "cell_type": "code",
   "execution_count": 10,
   "metadata": {
    "executionInfo": {
     "elapsed": 1479,
     "status": "ok",
     "timestamp": 1617073528897,
     "user": {
      "displayName": "Zhiling Zhang",
      "photoUrl": "",
      "userId": "11652514744377731296"
     },
     "user_tz": 300
    },
    "id": "4ZMpvF23-Pof"
   },
   "outputs": [],
   "source": [
    "#import libraries\n",
    "from sklearn.datasets import load_iris\n",
    "from sklearn.model_selection import train_test_split\n",
    "import matplotlib.pyplot as plt\n",
    "from sklearn.neural_network import MLPClassifier"
   ]
  },
  {
   "cell_type": "code",
   "execution_count": 11,
   "metadata": {
    "executionInfo": {
     "elapsed": 1477,
     "status": "ok",
     "timestamp": 1617073528899,
     "user": {
      "displayName": "Zhiling Zhang",
      "photoUrl": "",
      "userId": "11652514744377731296"
     },
     "user_tz": 300
    },
    "id": "oc0FloKFE6gE"
   },
   "outputs": [],
   "source": [
    "iris = load_iris()"
   ]
  },
  {
   "cell_type": "code",
   "execution_count": 12,
   "metadata": {
    "executionInfo": {
     "elapsed": 226,
     "status": "ok",
     "timestamp": 1617073530673,
     "user": {
      "displayName": "Zhiling Zhang",
      "photoUrl": "",
      "userId": "11652514744377731296"
     },
     "user_tz": 300
    },
    "id": "pZkYGhGcB_h4"
   },
   "outputs": [
    {
     "name": "stdout",
     "output_type": "stream",
     "text": [
      "[0 0 0 0 0 0 0 0 0 0 0 0 0 0 0 0 0 0 0 0 0 0 0 0 0 0 0 0 0 0 0 0 0 0 0 0 0\n",
      " 0 0 0 0 0 0 0 0 0 0 0 0 0 1 1 1 1 1 1 1 1 1 1 1 1 1 1 1 1 1 1 1 1 1 1 1 1\n",
      " 1 1 1 1 1 1 1 1 1 1 1 1 1 1 1 1 1 1 1 1 1 1 1 1 1 1 2 2 2 2 2 2 2 2 2 2 2\n",
      " 2 2 2 2 2 2 2 2 2 2 2 2 2 2 2 2 2 2 2 2 2 2 2 2 2 2 2 2 2 2 2 2 2 2 2 2 2\n",
      " 2 2]\n",
      "(150, 4)\n",
      "(150,)\n"
     ]
    }
   ],
   "source": [
    "X = iris.data\n",
    "Y = iris.target\n",
    "print(Y)\n",
    "Y.shape\n",
    "type(Y)\n",
    "\n",
    "print(X.shape)\n",
    "print(Y.shape)"
   ]
  },
  {
   "cell_type": "code",
   "execution_count": 13,
   "metadata": {
    "executionInfo": {
     "elapsed": 322,
     "status": "ok",
     "timestamp": 1617073690532,
     "user": {
      "displayName": "Zhiling Zhang",
      "photoUrl": "",
      "userId": "11652514744377731296"
     },
     "user_tz": 300
    },
    "id": "4cDEkrISCOI6"
   },
   "outputs": [],
   "source": [
    "tr_X, te_X, tr_Y, te_Y = train_test_split(X, Y, test_size=0.25, random_state=5)\n"
   ]
  },
  {
   "cell_type": "code",
   "execution_count": 14,
   "metadata": {
    "executionInfo": {
     "elapsed": 13324,
     "status": "ok",
     "timestamp": 1617073707200,
     "user": {
      "displayName": "Zhiling Zhang",
      "photoUrl": "",
      "userId": "11652514744377731296"
     },
     "user_tz": 300
    },
    "id": "lB4hfYDTEiSu"
   },
   "outputs": [],
   "source": [
    "train_score = []\n",
    "test_score = []\n",
    "layers = list(range(5,300,5)) \n",
    "for i in layers:\n",
    "   MLP = MLPClassifier(activation = 'logistic', \n",
    "                       solver = 'sgd', \n",
    "                       hidden_layer_sizes = (i,), \n",
    "                       alpha=1e-2, \n",
    "                       max_iter = 400,\n",
    "                       learning_rate_init = 0.1)\n",
    "   MLP.fit(tr_X,tr_Y)\n",
    "   train_score.append(MLP.score(tr_X,tr_Y))\n",
    "   test_score.append(MLP.score(te_X,te_Y))"
   ]
  },
  {
   "cell_type": "code",
   "execution_count": 15,
   "metadata": {
    "colab": {
     "base_uri": "https://localhost:8080/",
     "height": 282
    },
    "executionInfo": {
     "elapsed": 624,
     "status": "ok",
     "timestamp": 1617074075245,
     "user": {
      "displayName": "Zhiling Zhang",
      "photoUrl": "",
      "userId": "11652514744377731296"
     },
     "user_tz": 300
    },
    "id": "KQ20IOMsEzs2",
    "outputId": "c219d75b-ad78-4cc2-e9b4-8a23b649beba"
   },
   "outputs": [
    {
     "data": {
      "image/png": "[encoded data removed]",
      "text/plain": [
       "<Figure size 432x288 with 1 Axes>"
      ]
     },
     "metadata": {
      "needs_background": "light"
     },
     "output_type": "display_data"
    }
   ],
   "source": [
    "# Plot scores\n",
    "plt.plot(layers,train_score,'.',label = 'train set')\n",
    "plt.plot(layers,test_score,'-',label = 'test set')\n",
    "plt.xlabel('layers')\n",
    "plt.ylabel('score')\n",
    "plt.legend()\n",
    "plt.xscale(\"log\")"
   ]
  },
  {
   "cell_type": "code",
   "execution_count": null,
   "metadata": {
    "colab": {
     "base_uri": "https://localhost:8080/"
    },
    "executionInfo": {
     "elapsed": 277,
     "status": "ok",
     "timestamp": 1605634667583,
     "user": {
      "displayName": "Zhiling Zhang",
      "photoUrl": "",
      "userId": "11652514744377731296"
     },
     "user_tz": 360
    },
    "id": "178JXyekSRiS",
    "outputId": "c66eca79-390d-43c4-a86c-ff33e6821bdf"
   },
   "outputs": [
    {
     "data": {
      "text/plain": [
       "25"
      ]
     },
     "execution_count": 10,
     "metadata": {
      "tags": []
     },
     "output_type": "execute_result"
    }
   ],
   "source": [
    "layers[test_score.index(max(test_score))]"
   ]
  },
  {
   "cell_type": "code",
   "execution_count": null,
   "metadata": {
    "id": "p7egpylUSLLj"
   },
   "outputs": [],
   "source": []
  }
 ],
 "metadata": {
  "colab": {
   "collapsed_sections": [],
   "name": "ANN(1).ipynb",
   "provenance": []
  },
  "kernelspec": {
   "display_name": "Python 3.7.11 ('cse217a')",
   "language": "python",
   "name": "python3"
  },
  "language_info": {
   "codemirror_mode": {
    "name": "ipython",
    "version": 3
   },
   "file_extension": ".py",
   "mimetype": "text/x-python",
   "name": "python",
   "nbconvert_exporter": "python",
   "pygments_lexer": "ipython3",
   "version": "3.7.11"
  },
  "vscode": {
   "interpreter": {
    "hash": "e27b9380ff38cc7a9bd155aef51d2581199facd5a3adc549696474b8eacd75fb"
   }
  }
 },
 "nbformat": 4,
 "nbformat_minor": 1
}
