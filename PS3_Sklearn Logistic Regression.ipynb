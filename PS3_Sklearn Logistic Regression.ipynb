{
 "cells": [
  {
   "cell_type": "markdown",
   "metadata": {
    "id": "91Ftr2Z2UXy1"
   },
   "source": [
    "## Logistic Regression   \n",
    "Reference from [https://gist.github.com/mGalarnyk/aa79813d7ecb0049c7b926d53f588ae1](https://gist.github.com/mGalarnyk/aa79813d7ecb0049c7b926d53f588ae1)\n"
   ]
  },
  {
   "cell_type": "code",
   "execution_count": 1,
   "metadata": {
    "colab": {
     "base_uri": "https://localhost:8080/"
    },
    "executionInfo": {
     "elapsed": 556,
     "status": "ok",
     "timestamp": 1614817293719,
     "user": {
      "displayName": "Claire J",
      "photoUrl": "https://lh3.googleusercontent.com/a-/AOh14Gj8GY55Nao-pIN9TFCoQkHCGr7_GhoonH0FVaFgxaE=s64",
      "userId": "18251622266022956589"
     },
     "user_tz": 360
    },
    "id": "DUWwLMzGiXwm",
    "outputId": "19605279-5993-4f40-9e06-42272ba3ebfa"
   },
   "outputs": [
    {
     "name": "stderr",
     "output_type": "stream",
     "text": [
      "'ls' is not recognized as an internal or external command,\n",
      "operable program or batch file.\n"
     ]
    }
   ],
   "source": [
    "!ls"
   ]
  },
  {
   "cell_type": "code",
   "execution_count": 2,
   "metadata": {
    "id": "I_ht-dufVme0"
   },
   "outputs": [],
   "source": [
    "import numpy as np\n",
    "import matplotlib.pyplot as plt\n",
    "from sklearn.datasets import make_classification\n",
    "from sklearn import metrics\n",
    "from sklearn.model_selection import train_test_split\n",
    "from sklearn.metrics import confusion_matrix\n",
    "import pandas as pd\n",
    "from sklearn.linear_model import LogisticRegression"
   ]
  },
  {
   "cell_type": "markdown",
   "metadata": {
    "id": "4OA8AUN3nNYa"
   },
   "source": [
    "Make a synthetic data set using make_classification"
   ]
  },
  {
   "cell_type": "code",
   "execution_count": 3,
   "metadata": {
    "id": "iXtljrkZpKAc"
   },
   "outputs": [],
   "source": [
    "x, y = make_classification(n_samples=200, n_features=1, n_classes=2, n_clusters_per_class=1,flip_y=0.0,n_informative=1,n_redundant=0,n_repeated=0,random_state=197)"
   ]
  },
  {
   "cell_type": "code",
   "execution_count": 4,
   "metadata": {
    "colab": {
     "base_uri": "https://localhost:8080/",
     "height": 282
    },
    "executionInfo": {
     "elapsed": 392,
     "status": "ok",
     "timestamp": 1614866281111,
     "user": {
      "displayName": "Claire J",
      "photoUrl": "https://lh3.googleusercontent.com/a-/AOh14Gj8GY55Nao-pIN9TFCoQkHCGr7_GhoonH0FVaFgxaE=s64",
      "userId": "18251622266022956589"
     },
     "user_tz": 360
    },
    "id": "3s9TcNqBpvjv",
    "outputId": "7e4d411f-71d9-4f7f-bdbf-1f7aea1875b0"
   },
   "outputs": [
    {
     "data": {
      "text/plain": [
       "<matplotlib.collections.PathCollection at 0x1a4afab2e80>"
      ]
     },
     "execution_count": 4,
     "metadata": {},
     "output_type": "execute_result"
    },
    {
     "data": {
      "image/png": "[encoded data removed]",
      "text/plain": [
       "<Figure size 432x288 with 1 Axes>"
      ]
     },
     "metadata": {
      "needs_background": "light"
     },
     "output_type": "display_data"
    }
   ],
   "source": [
    "plt.scatter(x, y, c=y, cmap='cool')"
   ]
  },
  {
   "cell_type": "code",
   "execution_count": 5,
   "metadata": {
    "colab": {
     "base_uri": "https://localhost:8080/"
    },
    "executionInfo": {
     "elapsed": 283,
     "status": "ok",
     "timestamp": 1614866284571,
     "user": {
      "displayName": "Claire J",
      "photoUrl": "https://lh3.googleusercontent.com/a-/AOh14Gj8GY55Nao-pIN9TFCoQkHCGr7_GhoonH0FVaFgxaE=s64",
      "userId": "18251622266022956589"
     },
     "user_tz": 360
    },
    "id": "C2IeknxVp4T4",
    "outputId": "a0443751-a387-4c5f-d05b-065cd5674ec4"
   },
   "outputs": [
    {
     "name": "stdout",
     "output_type": "stream",
     "text": [
      "Logistic Regression Weights:  [[2.06695821]]\n",
      "Logistic Regression Constant:  [-0.07855725]\n",
      "\n",
      "Confusion Matrix:\n"
     ]
    },
    {
     "data": {
      "text/plain": [
       "array([[18,  4],\n",
       "       [ 1, 27]], dtype=int64)"
      ]
     },
     "execution_count": 5,
     "metadata": {},
     "output_type": "execute_result"
    }
   ],
   "source": [
    "# split\n",
    "x_train, x_test, y_train, y_test = train_test_split(x, y, random_state=1)\n",
    "\n",
    "# Model\n",
    "lr = LogisticRegression()\n",
    "lr.fit(x_train, y_train)\n",
    "y_pred = lr.predict(x_test)\n",
    "print(\"Logistic Regression Weights: \", lr.coef_)\n",
    "print(\"Logistic Regression Constant: \", lr.intercept_)\n",
    "\n",
    "print(\"\\nConfusion Matrix:\")\n",
    "confusion_matrix(y_test, y_pred)\n",
    "# lr.predict_proba(x_test)"
   ]
  },
  {
   "cell_type": "code",
   "execution_count": 6,
   "metadata": {
    "colab": {
     "base_uri": "https://localhost:8080/",
     "height": 299
    },
    "executionInfo": {
     "elapsed": 410,
     "status": "ok",
     "timestamp": 1614866369242,
     "user": {
      "displayName": "Claire J",
      "photoUrl": "https://lh3.googleusercontent.com/a-/AOh14Gj8GY55Nao-pIN9TFCoQkHCGr7_GhoonH0FVaFgxaE=s64",
      "userId": "18251622266022956589"
     },
     "user_tz": 360
    },
    "id": "Jq1oXWuq6UHE",
    "outputId": "6cec1be5-de90-4683-ee19-207120fdaf14"
   },
   "outputs": [
    {
     "name": "stdout",
     "output_type": "stream",
     "text": [
      "(50, 1)\n"
     ]
    },
    {
     "data": {
      "text/plain": [
       "<matplotlib.collections.PathCollection at 0x1a4afe0e9a0>"
      ]
     },
     "execution_count": 6,
     "metadata": {},
     "output_type": "execute_result"
    },
    {
     "data": {
      "image/png": "[encoded data removed]",
      "text/plain": [
       "<Figure size 432x288 with 1 Axes>"
      ]
     },
     "metadata": {
      "needs_background": "light"
     },
     "output_type": "display_data"
    }
   ],
   "source": [
    "print(x_test.shape)\n",
    "\n",
    "#Plotting only the test points\n",
    "plt.scatter(x_test, y_test, c=y_test, cmap='cool')"
   ]
  },
  {
   "cell_type": "code",
   "execution_count": 7,
   "metadata": {
    "colab": {
     "base_uri": "https://localhost:8080/"
    },
    "executionInfo": {
     "elapsed": 275,
     "status": "ok",
     "timestamp": 1614866371304,
     "user": {
      "displayName": "Claire J",
      "photoUrl": "https://lh3.googleusercontent.com/a-/AOh14Gj8GY55Nao-pIN9TFCoQkHCGr7_GhoonH0FVaFgxaE=s64",
      "userId": "18251622266022956589"
     },
     "user_tz": 360
    },
    "id": "P9iMJT4E6CyO",
    "outputId": "4df48d3d-82a0-45ed-d944-f2bb496ed94a"
   },
   "outputs": [
    {
     "name": "stdout",
     "output_type": "stream",
     "text": [
      "0.9\n"
     ]
    }
   ],
   "source": [
    "print(lr.score(x_test,y_test))"
   ]
  },
  {
   "cell_type": "code",
   "execution_count": 8,
   "metadata": {
    "id": "C5ugOgUPp5vh"
   },
   "outputs": [],
   "source": [
    "def plot_decision_boundary(model, axis):\n",
    "    x_min, x_max = axis[0] - .5, axis[1] + .5\n",
    "    y_min, y_max = axis[2] - .5, axis[3] + .5\n",
    "    h = .02  # step size in the mesh\n",
    "    xx, yy = np.meshgrid(np.arange(x_min, x_max, h), np.arange(y_min, y_max, h))\n",
    "    Z = model.predict(xx.ravel().reshape(-1,1))\n",
    "    Z = Z.reshape(xx.shape)\n",
    "    plt.figure(1, figsize=(4, 3))\n",
    "    # plt.pcolormesh(xx, yy, Z, cmap='Wistia') \n",
    "\n",
    "    plt.xlim(xx.min(), xx.max())\n",
    "    plt.ylim(yy.min(), yy.max())\n",
    "    plt.xticks(())\n",
    "    plt.yticks(())"
   ]
  },
  {
   "cell_type": "code",
   "execution_count": 9,
   "metadata": {
    "colab": {
     "base_uri": "https://localhost:8080/",
     "height": 197
    },
    "executionInfo": {
     "elapsed": 503,
     "status": "ok",
     "timestamp": 1614866391964,
     "user": {
      "displayName": "Claire J",
      "photoUrl": "https://lh3.googleusercontent.com/a-/AOh14Gj8GY55Nao-pIN9TFCoQkHCGr7_GhoonH0FVaFgxaE=s64",
      "userId": "18251622266022956589"
     },
     "user_tz": 360
    },
    "id": "OyfoeNu6r9Qd",
    "outputId": "9fe16499-f16b-478a-9ce7-32518756ebe7"
   },
   "outputs": [
    {
     "data": {
      "image/png": "[encoded data removed]",
      "text/plain": [
       "<Figure size 288x216 with 1 Axes>"
      ]
     },
     "metadata": {},
     "output_type": "display_data"
    }
   ],
   "source": [
    "plot_decision_boundary(lr, axis=[-4, 4, 0, 1])\n",
    "plt.scatter(x_test, y_test, c=y_pred, edgecolors='k', cmap='Wistia')\n",
    "plt.show()"
   ]
  },
  {
   "cell_type": "markdown",
   "metadata": {
    "id": "4ihCk8vkpzRR"
   },
   "source": [
    "## MNIST"
   ]
  },
  {
   "cell_type": "code",
   "execution_count": 10,
   "metadata": {
    "id": "swniBwOyXFpN"
   },
   "outputs": [],
   "source": [
    "train_data = np.loadtxt('mnist_train.csv',delimiter=\",\")\n",
    "test_data = np.loadtxt('mnist_test.csv',delimiter=\",\")"
   ]
  },
  {
   "cell_type": "code",
   "execution_count": 11,
   "metadata": {
    "colab": {
     "base_uri": "https://localhost:8080/"
    },
    "executionInfo": {
     "elapsed": 33604,
     "status": "ok",
     "timestamp": 1614867551588,
     "user": {
      "displayName": "Claire J",
      "photoUrl": "https://lh3.googleusercontent.com/a-/AOh14Gj8GY55Nao-pIN9TFCoQkHCGr7_GhoonH0FVaFgxaE=s64",
      "userId": "18251622266022956589"
     },
     "user_tz": 360
    },
    "id": "9xEsNFV_mMXV",
    "outputId": "da699a7b-f72c-45b2-d2f5-500c5195af2b"
   },
   "outputs": [
    {
     "name": "stdout",
     "output_type": "stream",
     "text": [
      "(60000, 785)\n",
      "(10000, 785)\n"
     ]
    }
   ],
   "source": [
    "print(train_data.shape)\n",
    "print(test_data.shape)"
   ]
  },
  {
   "cell_type": "markdown",
   "metadata": {
    "id": "HQDvK2lG9BXf"
   },
   "source": [
    "## Visualize Training Digits and Labels"
   ]
  },
  {
   "cell_type": "code",
   "execution_count": 12,
   "metadata": {
    "id": "VtyOOq5h9X-B"
   },
   "outputs": [],
   "source": [
    "x_train = train_data[:,1:]/255.0\n",
    "x_test = test_data[:,1:]/255.0\n",
    "y_train = train_data[:,0]\n",
    "y_test = test_data[:,0]"
   ]
  },
  {
   "cell_type": "code",
   "execution_count": 13,
   "metadata": {
    "colab": {
     "base_uri": "https://localhost:8080/",
     "height": 285
    },
    "executionInfo": {
     "elapsed": 1009,
     "status": "ok",
     "timestamp": 1614867569745,
     "user": {
      "displayName": "Claire J",
      "photoUrl": "https://lh3.googleusercontent.com/a-/AOh14Gj8GY55Nao-pIN9TFCoQkHCGr7_GhoonH0FVaFgxaE=s64",
      "userId": "18251622266022956589"
     },
     "user_tz": 360
    },
    "id": "teOgzK2x9Aq5",
    "outputId": "038aa9f2-ba12-483b-e8b6-2121dd4010bf"
   },
   "outputs": [
    {
     "data": {
      "image/png": "[encoded data removed]",
      "text/plain": [
       "<Figure size 1152x288 with 4 Axes>"
      ]
     },
     "metadata": {
      "needs_background": "light"
     },
     "output_type": "display_data"
    }
   ],
   "source": [
    "plt.figure(figsize=(16,4))\n",
    "for index, (img, label) in enumerate(zip(x_train[0:4], y_train[0:4])):\n",
    "  plt.subplot(1, 4, index+1)\n",
    "  plt.imshow(np.reshape(img, (28,28)), cmap=plt.cm.gray)\n",
    "  plt.title('Label:%i\\n' % label, fontsize = 20)"
   ]
  },
  {
   "cell_type": "code",
   "execution_count": 14,
   "metadata": {
    "id": "dZhrh8nBjtRq"
   },
   "outputs": [],
   "source": [
    "#This is how the computer sees the number 4\n",
    "#print(x_train[1])"
   ]
  },
  {
   "cell_type": "markdown",
   "metadata": {
    "id": "juibX9HeGxrj"
   },
   "source": [
    "## Logistic Regression"
   ]
  },
  {
   "cell_type": "code",
   "execution_count": 15,
   "metadata": {
    "colab": {
     "base_uri": "https://localhost:8080/"
    },
    "executionInfo": {
     "elapsed": 137354,
     "status": "ok",
     "timestamp": 1614868918966,
     "user": {
      "displayName": "Claire J",
      "photoUrl": "https://lh3.googleusercontent.com/a-/AOh14Gj8GY55Nao-pIN9TFCoQkHCGr7_GhoonH0FVaFgxaE=s64",
      "userId": "18251622266022956589"
     },
     "user_tz": 360
    },
    "id": "4M71Aw-kmhJI",
    "outputId": "8aa5057e-065f-4d04-b0b0-33188fc5db53"
   },
   "outputs": [
    {
     "data": {
      "text/plain": [
       "LogisticRegression(penalty='none', solver='saga', tol=0.01)"
      ]
     },
     "execution_count": 15,
     "metadata": {},
     "output_type": "execute_result"
    }
   ],
   "source": [
    "#Set to no penalty (regularization), \n",
    "#adjust from default solver and lower tolerance to speed up convergence\n",
    "\n",
    "lgr = LogisticRegression(penalty='none', tol=0.01, solver='saga')\n",
    "lgr.fit(x_train,y_train)"
   ]
  },
  {
   "cell_type": "code",
   "execution_count": 16,
   "metadata": {
    "id": "6JKb980eH282"
   },
   "outputs": [],
   "source": [
    "#Predict on test data\n",
    "y_pred = lgr.predict(x_test)"
   ]
  },
  {
   "cell_type": "code",
   "execution_count": 17,
   "metadata": {
    "colab": {
     "base_uri": "https://localhost:8080/"
    },
    "executionInfo": {
     "elapsed": 323,
     "status": "ok",
     "timestamp": 1614868954645,
     "user": {
      "displayName": "Claire J",
      "photoUrl": "https://lh3.googleusercontent.com/a-/AOh14Gj8GY55Nao-pIN9TFCoQkHCGr7_GhoonH0FVaFgxaE=s64",
      "userId": "18251622266022956589"
     },
     "user_tz": 360
    },
    "id": "6D2NpP3AwVMy",
    "outputId": "3908d805-03dc-48f8-c3af-d6bd29015cec"
   },
   "outputs": [
    {
     "name": "stdout",
     "output_type": "stream",
     "text": [
      "              precision    recall  f1-score   support\n",
      "\n",
      "         0.0       0.95      0.98      0.97       980\n",
      "         1.0       0.96      0.98      0.97      1135\n",
      "         2.0       0.93      0.90      0.91      1032\n",
      "         3.0       0.90      0.91      0.91      1010\n",
      "         4.0       0.94      0.93      0.94       982\n",
      "         5.0       0.90      0.87      0.88       892\n",
      "         6.0       0.94      0.95      0.95       958\n",
      "         7.0       0.93      0.92      0.93      1028\n",
      "         8.0       0.88      0.88      0.88       974\n",
      "         9.0       0.91      0.92      0.92      1009\n",
      "\n",
      "    accuracy                           0.93     10000\n",
      "   macro avg       0.93      0.93      0.93     10000\n",
      "weighted avg       0.93      0.93      0.93     10000\n",
      "\n"
     ]
    }
   ],
   "source": [
    "from sklearn.metrics import classification_report                        \n",
    "print(classification_report(y_test,y_pred))"
   ]
  },
  {
   "cell_type": "markdown",
   "metadata": {
    "id": "V9UD8PY5Hjoh"
   },
   "source": [
    "## Model Performance "
   ]
  },
  {
   "cell_type": "code",
   "execution_count": 18,
   "metadata": {
    "colab": {
     "base_uri": "https://localhost:8080/"
    },
    "executionInfo": {
     "elapsed": 320,
     "status": "ok",
     "timestamp": 1614868974395,
     "user": {
      "displayName": "Claire J",
      "photoUrl": "https://lh3.googleusercontent.com/a-/AOh14Gj8GY55Nao-pIN9TFCoQkHCGr7_GhoonH0FVaFgxaE=s64",
      "userId": "18251622266022956589"
     },
     "user_tz": 360
    },
    "id": "DBXFIYo37Vju",
    "outputId": "3b395e73-80df-46d2-86f5-4ad9c4b94b85"
   },
   "outputs": [
    {
     "name": "stdout",
     "output_type": "stream",
     "text": [
      "0.9264\n"
     ]
    }
   ],
   "source": [
    "score = lgr.score(x_test,y_test)\n",
    "print(score)"
   ]
  },
  {
   "cell_type": "code",
   "execution_count": 19,
   "metadata": {
    "colab": {
     "base_uri": "https://localhost:8080/"
    },
    "executionInfo": {
     "elapsed": 270,
     "status": "ok",
     "timestamp": 1614868994101,
     "user": {
      "displayName": "Claire J",
      "photoUrl": "https://lh3.googleusercontent.com/a-/AOh14Gj8GY55Nao-pIN9TFCoQkHCGr7_GhoonH0FVaFgxaE=s64",
      "userId": "18251622266022956589"
     },
     "user_tz": 360
    },
    "id": "cld6GC4jddA-",
    "outputId": "46e4dde0-b690-42dc-e52c-adab9fb4ed5b"
   },
   "outputs": [
    {
     "name": "stdout",
     "output_type": "stream",
     "text": [
      "[-1.32164564  1.44985069  0.18874269 -0.72071598  0.26720747  2.18377178\n",
      " -0.55857572  1.37665583 -2.34122208 -0.52406903]\n"
     ]
    }
   ],
   "source": [
    "print(lgr.intercept_)"
   ]
  },
  {
   "cell_type": "code",
   "execution_count": 20,
   "metadata": {
    "colab": {
     "base_uri": "https://localhost:8080/"
    },
    "executionInfo": {
     "elapsed": 251,
     "status": "ok",
     "timestamp": 1614868995401,
     "user": {
      "displayName": "Claire J",
      "photoUrl": "https://lh3.googleusercontent.com/a-/AOh14Gj8GY55Nao-pIN9TFCoQkHCGr7_GhoonH0FVaFgxaE=s64",
      "userId": "18251622266022956589"
     },
     "user_tz": 360
    },
    "id": "hC1o-7XkHazv",
    "outputId": "4a502278-b6bb-4249-b00c-2f773d52bb4d"
   },
   "outputs": [
    {
     "name": "stdout",
     "output_type": "stream",
     "text": [
      "Confusion Matrix:\n",
      " [[ 958    0    0    3    1    9    4    4    1    0]\n",
      " [   0 1112    5    1    0    2    3    1   11    0]\n",
      " [   5   10  928   17   10    3   14    9   32    4]\n",
      " [   4    1   16  922    0   25    3   10   21    8]\n",
      " [   1    3    7    3  918    0    8    5    7   30]\n",
      " [   9    2    3   34   10  778   14    7   31    4]\n",
      " [   8    3    8    2    6   15  913    2    1    0]\n",
      " [   1    7   23    8    6    1    0  949    2   31]\n",
      " [   9   11    6   22    7   29   13    9  857   11]\n",
      " [   9    8    1    9   21    7    0   19    6  929]]\n"
     ]
    }
   ],
   "source": [
    "cm = confusion_matrix(y_test, y_pred)\n",
    "print(\"Confusion Matrix:\\n\", cm)"
   ]
  },
  {
   "cell_type": "code",
   "execution_count": null,
   "metadata": {},
   "outputs": [],
   "source": []
  }
 ],
 "metadata": {
  "colab": {
   "collapsed_sections": [],
   "name": "Logistic Regression.ipynb",
   "provenance": []
  },
  "kernelspec": {
   "display_name": "Python 3.7.11 ('cse217a')",
   "language": "python",
   "name": "python3"
  },
  "language_info": {
   "codemirror_mode": {
    "name": "ipython",
    "version": 3
   },
   "file_extension": ".py",
   "mimetype": "text/x-python",
   "name": "python",
   "nbconvert_exporter": "python",
   "pygments_lexer": "ipython3",
   "version": "3.7.11"
  },
  "vscode": {
   "interpreter": {
    "hash": "e27b9380ff38cc7a9bd155aef51d2581199facd5a3adc549696474b8eacd75fb"
   }
  }
 },
 "nbformat": 4,
 "nbformat_minor": 1
}
